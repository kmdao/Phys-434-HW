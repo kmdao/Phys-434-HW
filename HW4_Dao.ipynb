{
 "cells": [
  {
   "cell_type": "code",
   "execution_count": 178,
   "id": "fb4b5872-e7d1-4368-b2ca-5c758a910f01",
   "metadata": {},
   "outputs": [],
   "source": [
    "import numpy as np\n",
    "import matplotlib.pyplot as plt\n",
    "import matplotlib as mpl\n",
    "import pandas as pd\n",
    "import uncertainties as unc\n",
    "from scipy import stats\n",
    "from scipy.stats import norm \n",
    "from scipy.stats import uniform\n",
    "from scipy.stats import binom\n",
    "from scipy.stats import poisson\n",
    "from numpy import random\n",
    "import scipy.constants as const\n",
    "from tabulate import tabulate\n",
    "import math\n",
    "%matplotlib inline"
   ]
  },
  {
   "cell_type": "markdown",
   "id": "0576d48c-b319-4cd2-8d2a-acdf764e2b63",
   "metadata": {},
   "source": [
    "# 1.1 Intro\n",
    "Use the maximum likelihood estimate method to find the probability distribution functtion\n",
    "$𝑓(𝑥|𝑎, 𝑏) = 𝑥_0 + 𝑎𝑥 + 𝑏𝑥^2$ that best describes the following dataset: https://canvas.uw.edu/files/125432781/downloaddownload_frd=1. <br>\n",
    "In this parameterization $𝑥_0$ is a function of $(a,b)$ and it normalizes the PDF $𝑓(𝑥|𝑎, 𝑏)$ within the\n",
    "range $[−1, 1]$."
   ]
  },
  {
   "cell_type": "markdown",
   "id": "006ffff4-e4d1-4e55-9c2a-0a09296f0aa0",
   "metadata": {},
   "source": [
    "#### Likelihood Inference for Several Parameters (Texbook Section 6.5.3)\n",
    "For several parameters $\\lambda_k$, parameters may be combined into a single vector $\\boldsymbol{\\lambda}={\\lambda_1,...,\\lambda_K}$: <br> <br>\n",
    "\\begin{equation}\n",
    "L(\\boldsymbol{\\lambda})=\\boldsymbol{\\Pi}_{i=1}^{N}f(x_i|\\boldsymbol{\\lambda}) \\\\\n",
    "lnL(\\boldsymbol{\\lambda})=\\boldsymbol{\\sum}_{i=1}^{N}lnf(x_i|\\boldsymbol{\\lambda})\n",
    "\\end{equation}\n",
    "<br>\n",
    "To find the maximum of the likelihood function, set the partial derivatives to zero. Those values $\\hat{\\lambda_k}$ which satisfy the system of equations obtained are the MLEs $\\hat{\\lambda_k}$ of the parameters $\\lambda_k$: <br> <br>\n",
    "\\begin{equation}\n",
    "\\frac{\\partial{lnL}}{\\partial\\lambda_k}|_{\\lambda_1,...,\\lambda_K}=0\n",
    "\\end{equation}\n",
    "<br>\n",
    "The error interval is now to be replaced by an error volume with its surface degined by the drop of $lnL$ by $1/2$: <br> <br>\n",
    "\\begin{equation}\n",
    "lnL(\\boldsymbol{\\hat{\\lambda}})-lnL(\\boldsymbol{\\lambda})=1/2\n",
    "\\end{equation}\n",
    "We must assume that this defines a closed surface in the parameter space, in two dimensions just a closed contour."
   ]
  },
  {
   "cell_type": "markdown",
   "id": "778e661e-494e-4780-b73c-6a4c48d1f837",
   "metadata": {},
   "source": [
    "#### MLE Calculation\n",
    "For p.d.f. $𝑓(𝑥|𝑎, 𝑏) = 𝑥_0 + 𝑎𝑥 + 𝑏𝑥^2$, where $𝑥_0$ is a function of $(a,b)$ and it normalizes the PDF $𝑓(𝑥|𝑎, 𝑏)$ within the range $[−1, 1]$, the variance is $\\sigma^2$. The likelihood function is then: <br>\n",
    "\\begin{equation}\n",
    "L(\\alpha, \\beta, \\sigma^2|\\boldsymbol{y,x})\n",
    "\\end{equation}\n",
    "For which we want to maximize the parameters $\\alpha$ and $\\beta$\n",
    "\n",
    "\\begin{equation}\n",
    "\\end{equation}"
   ]
  },
  {
   "cell_type": "code",
   "execution_count": 199,
   "id": "8335203f-443a-4256-bb6e-35fdf575639c",
   "metadata": {},
   "outputs": [
    {
     "name": "stdout",
     "output_type": "stream",
     "text": [
      "(999, 1)\n",
      "      0.949707\n",
      "0    -0.560359\n",
      "1    -0.263872\n",
      "2     0.888692\n",
      "3    -0.388929\n",
      "4     0.183349\n",
      "..         ...\n",
      "994  -0.054795\n",
      "995  -0.096953\n",
      "996   0.391595\n",
      "997  -0.721753\n",
      "998  -0.279068\n",
      "\n",
      "[999 rows x 1 columns]\n"
     ]
    },
    {
     "data": {
      "image/png": "[encoded data removed]",
      "text/plain": [
       "<Figure size 432x288 with 1 Axes>"
      ]
     },
     "metadata": {
      "needs_background": "light"
     },
     "output_type": "display_data"
    }
   ],
   "source": [
    "# Read in data\n",
    "d = pd.read_csv('data_homework4.csv')\n",
    "print(d.shape)\n",
    "# plt.hist(d, bins=100)\n",
    "n = norm.pdf(d)\n",
    "plt.hist(n)\n",
    "print(d)\n",
    "\n",
    "# plot of dist.pdf equation with estimate of params a and b\n",
    "x = np.linspace(-1,1,100)\n",
    "y = x + x ** 2\n",
    "plt.plot(x, ((10* x) + ((35*x)**2) + (1/35)))\n",
    "plt.ylim(0,200)\n",
    "plt.show()"
   ]
  },
  {
   "cell_type": "code",
   "execution_count": 204,
   "id": "d4dcda7b-11f5-4962-bc34-c893f2859f04",
   "metadata": {},
   "outputs": [],
   "source": [
    "# The log likelihood function\n",
    "def NLL(x, A, B, x0):\n",
    "    x = np.asarray(x) # x is a 1d an array\n",
    "    N = len(x) # N is the max of i iterations in summation of log-likelihood \n",
    "    b_shape = np.broadcast(B, A,x0).shape # Broadcast so that operations between arrays can be performed\n",
    "    x = x.reshape(x.shape + tuple([1 for s in b_shape])) # x now has 3 dimensions\n",
    "    nll = np.sum(np.log(x0 + (A * x) + (B * x**2)), 0)\n",
    "    print(nll.shape)\n",
    "    return nll"
   ]
  },
  {
   "cell_type": "code",
   "execution_count": 205,
   "id": "ad913c51-8655-4f57-a54e-7b75f28497bd",
   "metadata": {},
   "outputs": [
    {
     "name": "stdout",
     "output_type": "stream",
     "text": [
      "33063546.76201223\n",
      "(1, 100, 100)\n",
      "4190.065101911754\n",
      "[0] [99] [99]\n",
      "[0.1]\n",
      "[50.]\n",
      "[50.]\n"
     ]
    }
   ],
   "source": [
    "x0_vals = np.linspace(0.1,50,100)\n",
    "A_vals = np.linspace(0.1, 50, 100)\n",
    "B_vals = np.linspace(0.1, 50, 100)\n",
    "xi = np.linspace(-1,1,999)\n",
    "# fNll = NLL(d, A_vals, B_vals[:,np.newaxis], x0_vals)\n",
    "print(fNll)\n",
    "\n",
    "np.random.seed(36)\n",
    "\n",
    "neg_LL = NLL(d, A_vals, B_vals[:,np.newaxis], x0_vals)\n",
    "\n",
    "\n",
    "max_NLL =  neg_LL.max()\n",
    "print(max_NLL)\n",
    "A_max, B_max, x0_max = np.where(neg_LL >= max_NLL) # index of array where element correspond to val for max NLL\n",
    "print(A_max, B_max, x0_max)\n",
    "A0 = A_vals[A_max]\n",
    "B0 = B_vals[B_max]\n",
    "x0 = x0_vals[x0_max]\n",
    "print(A0)\n",
    "print(B0)\n",
    "print(x0)\n",
    "\n"
   ]
  },
  {
   "cell_type": "code",
   "execution_count": 213,
   "id": "0df7379a-880a-4491-8f25-77f587dff758",
   "metadata": {},
   "outputs": [
    {
     "name": "stdout",
     "output_type": "stream",
     "text": [
      "33063546.76201223\n",
      "d (999,)\n",
      "A (100,)\n",
      "B (100, 1)\n",
      "shape (100, 100)\n",
      "d (999, 1, 1)\n",
      "nll (100, 100)\n"
     ]
    },
    {
     "name": "stderr",
     "output_type": "stream",
     "text": [
      "/var/folders/nx/62hxrsd15jj4532cfpqnfbsw0000gn/T/ipykernel_1513/901670526.py:11: RuntimeWarning: invalid value encountered in log\n",
      "  nll = (1/B) * np.sum(np.log((A * d) + (B * d**2)), 0)\n"
     ]
    }
   ],
   "source": [
    "def LL(d, A, B):\n",
    "    d = d.values.flatten()\n",
    "    d = np.asarray(d)\n",
    "    np.reshape(d, (999,))\n",
    "    print('d', d.shape)\n",
    "    N=len(d)\n",
    "    shape = np.broadcast(B, A).shape\n",
    "    print('A', A.shape)\n",
    "    print('B', B.shape)\n",
    "    d = d.reshape(d.shape + tuple([1 for s in shape]))\n",
    "    nll = (1/B) * np.sum(np.log((A * d) + (B * d**2)), 0)\n",
    "    print('shape', shape)\n",
    "    print('d', d.shape)\n",
    "    print('nll', nll.shape)\n",
    "    return nll\n",
    "\n",
    "\n",
    "A_vals = np.linspace(0.1, 100, 100)\n",
    "B_vals = np.linspace(0.1, 100, 100)\n",
    "\n",
    "# fNll = NLL(d, A_vals, B_vals[:,np.newaxis], x0_vals)\n",
    "print(fNll)\n",
    "\n",
    "np.random.seed(36)\n",
    "\n",
    "neg_LL = LL(d, A_vals, B_vals[:,np.newaxis])\n",
    "\n",
    "\n",
    "# max_NLL =  neg_LL.max()\n",
    "# print(max_NLL)\n",
    "# A_max, B_max = np.where(neg_LL >= max_NLL) # index of array where element correspond to val for max NLL\n",
    "# print(A_max, B_max)\n",
    "# A0 = A_vals[A_max]\n",
    "# B0 = B_vals[B_max]\n",
    "\n",
    "# print(A0)\n",
    "# print(B0)\n",
    "\n",
    "\n"
   ]
  },
  {
   "cell_type": "code",
   "execution_count": null,
   "id": "ca25d284-d160-4b5f-a899-cb33e40ed288",
   "metadata": {},
   "outputs": [],
   "source": []
  },
  {
   "cell_type": "markdown",
   "id": "7291cba0-0e67-45db-a00c-9ae9ecc793dd",
   "metadata": {},
   "source": [
    "### 1.2 (1) Find and fit using the negative log likelihood\n",
    "Using techniques we’ve discussed find the negative log likelihood for (𝑎, 𝑏) using the provided\n",
    "dataset.\n",
    "Follow the tutorial of the iminuit package to find the best likelihood fit results. The tutorial can be\n",
    "found here: https://scikit-hep.org/iminuit/notebooks/cost_functions.html. PLease note\n",
    "that iminuit is very sensitive to the beginning parameter values and the allowed range of each\n",
    "parameter - so expect to fiddle a bit to get it to work properly."
   ]
  },
  {
   "cell_type": "code",
   "execution_count": null,
   "id": "e81e093f-fd84-4013-ac82-15842407fe7e",
   "metadata": {},
   "outputs": [],
   "source": []
  },
  {
   "cell_type": "code",
   "execution_count": null,
   "id": "f3874973-56be-45f6-9635-1d3a9eed50a2",
   "metadata": {},
   "outputs": [],
   "source": []
  },
  {
   "cell_type": "markdown",
   "id": "d8b27ab1-6da3-4945-8fd1-aa5fec8d1b65",
   "metadata": {},
   "source": [
    "### 1.3 (2) Plot the fit\n",
    "Project the data into a histogram with range [−1, 1] and bin width 0.1. Draw statistical unvertianty\n",
    "as a vertical bar in each bin. Draw the best-fit PDF from (1) on top.\n"
   ]
  },
  {
   "cell_type": "code",
   "execution_count": null,
   "id": "a9b7ed94-14be-49c8-9865-77d8b9cf5648",
   "metadata": {},
   "outputs": [],
   "source": [
    "# def best_func(x, A0, B0, x0):\n",
    "#     y = x0 + (A0 * x) + (B0 * x ** 2)\n",
    "#     return y\n",
    "\n",
    "d = np.asarray(d)\n",
    "print(d[5])\n",
    "y = np.zeros(999)\n",
    "print(y[4])\n",
    "for i in range(999):\n",
    "    y[i] = 50 + (0.1 * d[i]) + (50 * d[i] ** 2)\n",
    "# y = 50 + (0.1 * d) + (50 * d ** 2)\n",
    "\n",
    "y = 0.1 * d + (50 * d ** 2)\n",
    "plt.plot(d, y)\n",
    "plt.show()"
   ]
  },
  {
   "cell_type": "code",
   "execution_count": null,
   "id": "c75f5941-5ba9-4a5d-aebf-090366e4ff16",
   "metadata": {},
   "outputs": [],
   "source": [
    "x = uniform.rvs(size=999)\n",
    "x = np.linspace(-1,1,999)\n",
    "# print(x)\n",
    "y = 0.1 * x + (50 * x ** 2)\n",
    "plt.plot(x,y)\n",
    "\n",
    "\n",
    "d = pd.read_csv('data_homework4.csv')\n",
    "print(len(d))\n",
    "# plt.hist(d, bins=100)\n",
    "n = norm.pdf(d)\n",
    "plt.hist(n)\n"
   ]
  },
  {
   "cell_type": "code",
   "execution_count": null,
   "id": "468042d5-3734-49f7-8018-5d75e6df98f8",
   "metadata": {},
   "outputs": [],
   "source": []
  },
  {
   "cell_type": "markdown",
   "id": "dbfbe769-f119-470a-8658-220c82e889b7",
   "metadata": {},
   "source": [
    "### 1.4 (3) Countours\n",
    "Draw the contour of the negative log likelihood, −2 ln(𝐿) as a function of (𝑎, 𝑏). Plot the best-fit\n",
    "values with dashed lines. Results should look something like below (you’ll need to adjust ranges,\n",
    "etc. etc.):\n"
   ]
  },
  {
   "cell_type": "code",
   "execution_count": null,
   "id": "18200404-476c-40dd-88c7-ea3d5383eaf1",
   "metadata": {},
   "outputs": [],
   "source": []
  },
  {
   "cell_type": "code",
   "execution_count": null,
   "id": "39e37a72-c87d-4bdd-87e9-96c51774e777",
   "metadata": {},
   "outputs": [],
   "source": []
  },
  {
   "cell_type": "code",
   "execution_count": null,
   "id": "66199e9d-b2bd-43bf-b852-fc5a132ef8e0",
   "metadata": {},
   "outputs": [],
   "source": []
  }
 ],
 "metadata": {
  "kernelspec": {
   "display_name": "Python 3 (ipykernel)",
   "language": "python",
   "name": "python3"
  },
  "language_info": {
   "codemirror_mode": {
    "name": "ipython",
    "version": 3
   },
   "file_extension": ".py",
   "mimetype": "text/x-python",
   "name": "python",
   "nbconvert_exporter": "python",
   "pygments_lexer": "ipython3",
   "version": "3.9.12"
  }
 },
 "nbformat": 4,
 "nbformat_minor": 5
}
