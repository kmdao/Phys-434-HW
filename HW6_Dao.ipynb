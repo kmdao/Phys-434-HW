{
 "cells": [
  {
   "cell_type": "code",
   "execution_count": 87,
   "id": "514bc6b4-babd-41e8-81ea-0eb52fbf0957",
   "metadata": {},
   "outputs": [],
   "source": [
    "import numpy as np\n",
    "import matplotlib.pyplot as plt\n",
    "import matplotlib as mpl\n",
    "import pandas as pd\n",
    "import uncertainties as unc\n",
    "import scipy\n",
    "from scipy import stats\n",
    "from scipy.stats import norm \n",
    "from scipy.stats import uniform\n",
    "from scipy.stats import binom\n",
    "from scipy.stats import poisson\n",
    "from scipy.special import factorial\n",
    "from numpy import random\n",
    "import scipy.constants as const\n",
    "from tabulate import tabulate\n",
    "import iminuit.minimize as minimize\n",
    "import math\n",
    "from tqdm import tqdm\n",
    "%matplotlib inline"
   ]
  },
  {
   "cell_type": "code",
   "execution_count": 88,
   "id": "18231375-38b1-4eba-b233-a20a6d2b5b61",
   "metadata": {},
   "outputs": [],
   "source": [
    "# 1. We require signal event s>0 for positive signal yield.\n",
    "#        Therefore, the test statistics q_0 is 0 if N_obs <= Nb\n",
    "# 2. Compute two Poisson loglikelihood of\n",
    "#   a) backgorund only model\n",
    "#   b) signal+background model\n",
    "#   Evaluate -2 log likelihood ratio between a) and b)\n",
    "\n",
    "def q02(N_obs, Nb):\n",
    "    if N_obs <= Nb:\n",
    "        q0_out = 0\n",
    "    else:\n",
    "        q0_out = -2 * np.log(poisson.pmf(N_obs,Nb) / poisson.pmf(N_obs,N_obs))\n",
    "    return q0_out"
   ]
  },
  {
   "cell_type": "code",
   "execution_count": 89,
   "id": "f2761af1-8c74-4747-bb6f-d64c43a1f47e",
   "metadata": {},
   "outputs": [],
   "source": [
    "def FreqnetistZ0(N_obs,N_b):\n",
    "    #set random seed to guarantee reproducibility\n",
    "    np.random.seed(seed=8)\n",
    "    q0_toy = 0\n",
    "    # Step1. Generate f(q_0|B) distribtuion\n",
    "    # Generate toy experiments based on background only model and compute q_0␣↪for each experiment\n",
    "    q_dist = [] # Initialize array to fill with distribution values for f(q_0|B)\n",
    "    N_toy = 10000 # Generate 1000 points\n",
    "    for _ in tqdm(range(N_toy)):\n",
    "        toy = np.random.poisson(N_b)\n",
    "        q0_toy = q02(toy, N_b)\n",
    "        q_dist.append(q0_toy)\n",
    "    q_dist = np.array(q_dist)\n",
    "    # Step2. Compute p-value. The fraction of toy experiments with q_0 greater␣↪or eqal to q_{0,obs}\n",
    "    q0_obs = q02(N_obs, N_b) # Find q0 from given Nb and N_obs\n",
    "    pvalue = np.sum(q_dist >= q0_obs) / N_toy # p-value\n",
    "    Zscore= scipy.stats.norm.ppf(1 - pvalue)\n",
    "    return Zscore"
   ]
  },
  {
   "cell_type": "markdown",
   "id": "d984f1b8-1c26-46be-ae69-eed005c6787b",
   "metadata": {},
   "source": [
    "Now, let’s apply our code for numerical calculations.\n",
    "Consider the case that backogrund only model with yields b=0.5 and observed events n=5.\n",
    "Calclate discovery significance."
   ]
  },
  {
   "cell_type": "code",
   "execution_count": 90,
   "id": "7aa4d032-0f49-4508-9f87-d938cabc46c1",
   "metadata": {},
   "outputs": [
    {
     "name": "stderr",
     "output_type": "stream",
     "text": [
      "100%|██████████| 10000/10000 [00:00<00:00, 20075.24it/s]"
     ]
    },
    {
     "name": "stdout",
     "output_type": "stream",
     "text": [
      "Z0freq:3.72\n"
     ]
    },
    {
     "name": "stderr",
     "output_type": "stream",
     "text": [
      "\n"
     ]
    }
   ],
   "source": [
    "Nobs=5\n",
    "Nb=0.5\n",
    "F = FreqnetistZ0(Nobs,Nb)\n",
    "# Write your code here\n",
    "print(\"Z0freq:%.2f\"%F)\n",
    "\n"
   ]
  },
  {
   "cell_type": "markdown",
   "id": "ceef4719-4694-4612-a9d1-b6fd88e7102f",
   "metadata": {},
   "source": [
    "    Q1: How is the number compared to the Baysian signficance from homework 5? \n",
    "    From homework 5, the Bayesian significance was 4.18, which is greater than the Frequentist significance found here."
   ]
  },
  {
   "cell_type": "markdown",
   "id": "ef73d91c-450b-4960-8bef-45de7941423e",
   "metadata": {},
   "source": [
    "Consdier a background only model with yields b=4 and observed events n=5. Calculate Baysian signifiance and Frequqnt signficance, and compare the results."
   ]
  },
  {
   "cell_type": "code",
   "execution_count": 91,
   "id": "548ce030-0158-4b6c-9c29-078160217a65",
   "metadata": {},
   "outputs": [
    {
     "name": "stderr",
     "output_type": "stream",
     "text": [
      "100%|██████████| 10000/10000 [00:00<00:00, 22470.75it/s]"
     ]
    },
    {
     "name": "stdout",
     "output_type": "stream",
     "text": [
      "Z0freq:0.34\n",
      "Z0Bayesian:0.79\n"
     ]
    },
    {
     "name": "stderr",
     "output_type": "stream",
     "text": [
      "\n"
     ]
    }
   ],
   "source": [
    "Nobs=5\n",
    "Nb=4\n",
    "\n",
    "# Frequentist sig\n",
    "F2 = FreqnetistZ0(Nobs,Nb)\n",
    "print(\"Z0freq:%.2f\"%F2)\n",
    "\n",
    "# Bayesian sig using funcgtion from HW 5\n",
    "def BayesianZ0(N_obs,N_b):\n",
    "    pvalue = 1-poisson.cdf(N_obs, N_b)\n",
    "    Zscore= scipy.stats.norm.ppf(1-pvalue)\n",
    "    return Zscore\n",
    "\n",
    "B2 = BayesianZ0(Nobs, Nb)\n",
    "print(\"Z0Bayesian:%.2f\"%B2)\n"
   ]
  },
  {
   "cell_type": "markdown",
   "id": "d0f06dc3-10b1-4ad3-aa0f-03e0698077d5",
   "metadata": {},
   "source": [
    "For a higher background yield, the ratio of Bayesian significance to the Frequentist significance is much larger than before where the background yield was much smaller. This is because in the frequentist calculation, the toy values only take in the background and here Nb is so much closer to Nobserved the frequentist significance is much smaller by comparison. "
   ]
  },
  {
   "cell_type": "code",
   "execution_count": null,
   "id": "85906f0e-56c7-4cc1-a868-680004e5870e",
   "metadata": {},
   "outputs": [],
   "source": []
  }
 ],
 "metadata": {
  "kernelspec": {
   "display_name": "Python 3 (ipykernel)",
   "language": "python",
   "name": "python3"
  },
  "language_info": {
   "codemirror_mode": {
    "name": "ipython",
    "version": 3
   },
   "file_extension": ".py",
   "mimetype": "text/x-python",
   "name": "python",
   "nbconvert_exporter": "python",
   "pygments_lexer": "ipython3",
   "version": "3.9.12"
  }
 },
 "nbformat": 4,
 "nbformat_minor": 5
}
