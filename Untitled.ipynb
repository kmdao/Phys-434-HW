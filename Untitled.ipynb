{
 "cells": [
  {
   "cell_type": "code",
   "execution_count": 5,
   "id": "993eee3d-2b04-4083-a4a7-212015623435",
   "metadata": {},
   "outputs": [
    {
     "name": "stdout",
     "output_type": "stream",
     "text": [
      "Simplified Z0: 6.363961030678928\n",
      "Asymptotic Z0: 3.7451102693966782\n",
      "Bayesian Z0: 4.186492134133442\n"
     ]
    }
   ],
   "source": [
    "import numpy as np\n",
    "import scipy.stats\n",
    "\n",
    "# Observed and background counts\n",
    "N_obs = 5\n",
    "Nb = 0.5\n",
    "\n",
    "# Simplified Z0\n",
    "def SimplifiedZ0(N_obs, N_b):\n",
    "    s = N_obs - N_b\n",
    "    return s / np.sqrt(N_b)\n",
    "\n",
    "# Asymptotic Z0\n",
    "def AsymptoticZ0(N_obs, N_b):\n",
    "    s = N_obs - N_b\n",
    "    return np.sqrt(2 * ((s + N_b) * np.log(1 + s / N_b) - s))\n",
    "\n",
    "# Bayesian Z0\n",
    "def BayesianZ0(N_obs, N_b):\n",
    "    # Calculate the p-value using the Poisson CDF\n",
    "    p_value = 1 - scipy.stats.poisson.cdf(N_obs, N_b)\n",
    "    # Convert p-value to Z-score\n",
    "    return scipy.stats.norm.ppf(1 - p_value)\n",
    "\n",
    "# Calculate each discovery significance\n",
    "simplified_z0 = SimplifiedZ0(N_obs, Nb)\n",
    "asymptotic_z0 = AsymptoticZ0(N_obs, Nb)\n",
    "bayesian_z0 = BayesianZ0(N_obs, Nb)\n",
    "\n",
    "print(\"Simplified Z0:\", simplified_z0)\n",
    "print(\"Asymptotic Z0:\", asymptotic_z0)\n",
    "print(\"Bayesian Z0:\", bayesian_z0)\n"
   ]
  },
  {
   "cell_type": "code",
   "execution_count": 7,
   "id": "1f1773fc-1dd5-4516-a686-79b986fca45c",
   "metadata": {},
   "outputs": [
    {
     "name": "stderr",
     "output_type": "stream",
     "text": [
      "100%|██████████| 10000/10000 [00:00<00:00, 21682.71it/s]\n"
     ]
    },
    {
     "name": "stdout",
     "output_type": "stream",
     "text": [
      "14.025850929940455\n",
      "Frequentist Z-score significance (N_obs=5, N_b=0.5): 3.72\n"
     ]
    },
    {
     "name": "stderr",
     "output_type": "stream",
     "text": [
      "100%|██████████| 10000/10000 [00:00<00:00, 22624.18it/s]"
     ]
    },
    {
     "name": "stdout",
     "output_type": "stream",
     "text": [
      "Frequentist Z-score significance (N_obs=5, N_b=4): 0.34\n"
     ]
    },
    {
     "name": "stderr",
     "output_type": "stream",
     "text": [
      "\n"
     ]
    }
   ],
   "source": [
    "import numpy as np\n",
    "import matplotlib.pyplot as plt\n",
    "from scipy.stats import poisson\n",
    "from tqdm import tqdm\n",
    "\n",
    "# Define the test statistic q_0 for Frequentist approach\n",
    "def q0(N_obs, N_b):\n",
    "    # If observed events are less than or equal to background, q0 is zero\n",
    "    if N_obs <= N_b:\n",
    "        return 0\n",
    "    # Calculate the log-likelihood ratio between the background-only model and signal+background model\n",
    "    L_b = poisson.pmf(N_obs, N_b)  # Background-only likelihood\n",
    "    L_sb = poisson.pmf(N_obs, N_obs)  # Signal + background likelihood (s = n - b)\n",
    "    q0_out = -2 * np.log(L_b / L_sb)\n",
    "    return q0_out\n",
    "\n",
    "# Define function to calculate Frequentist Z-score significance\n",
    "def FreqnetistZ0(N_obs, N_b, n_toys=10000):\n",
    "    # Set random seed for reproducibility\n",
    "    np.random.seed(seed=8)\n",
    "    \n",
    "    # Step 1: Generate f(q_0 | B) distribution using toy experiments\n",
    "    q0_values = []\n",
    "    for _ in tqdm(range(n_toys)):\n",
    "        # Generate toy data from background-only model\n",
    "        toy_n = np.random.poisson(N_b)\n",
    "        q0_toy = q0(toy_n, N_b)\n",
    "        q0_values.append(q0_toy)\n",
    "    \n",
    "    # Calculate q0 for observed data\n",
    "    q0_obs = q0(N_obs, N_b)\n",
    "    \n",
    "    # Step 2: Calculate p-value as the fraction of toy experiments with q0 >= q0_obs\n",
    "    p_value = np.sum(np.array(q0_values) >= q0_obs) / n_toys\n",
    "    \n",
    "    # Convert p-value to Z-score for significance\n",
    "    Z_score = scipy.stats.norm.ppf(1 - p_value)\n",
    "    return Z_score\n",
    "\n",
    "# Example calculation: Background-only model with yields b=0.5 and observed events n=5\n",
    "N_obs = 5\n",
    "N_b = 0.5\n",
    "Z0_freq = FreqnetistZ0(N_obs, N_b)\n",
    "print(q0(N_obs, N_b))\n",
    "print(\"Frequentist Z-score significance (N_obs=5, N_b=0.5): %.2f\" % Z0_freq)\n",
    "\n",
    "# Additional comparison case: Background-only model with yields b=4 and observed events n=5\n",
    "N_obs2 = 5\n",
    "N_b2 = 4\n",
    "Z0_freq2 = FreqnetistZ0(N_obs2, N_b2)\n",
    "print(\"Frequentist Z-score significance (N_obs=5, N_b=4): %.2f\" % Z0_freq2)\n",
    "\n",
    "# Placeholder for Bayesian significance comparison\n",
    "# You would compare Z0_freq with Bayesian significance from Homework 5\n"
   ]
  },
  {
   "cell_type": "code",
   "execution_count": 1,
   "id": "70480ac1-5350-42a2-87bf-39339a5e18a7",
   "metadata": {},
   "outputs": [
    {
     "name": "stdout",
     "output_type": "stream",
     "text": [
      "Intel MKL WARNING: Support of Intel(R) Streaming SIMD Extensions 4.2 (Intel(R) SSE4.2) enabled only processors has been deprecated. Intel oneAPI Math Kernel Library 2025.0 will require Intel(R) Advanced Vector Extensions (Intel(R) AVX) instructions.\n",
      "Intel MKL WARNING: Support of Intel(R) Streaming SIMD Extensions 4.2 (Intel(R) SSE4.2) enabled only processors has been deprecated. Intel oneAPI Math Kernel Library 2025.0 will require Intel(R) Advanced Vector Extensions (Intel(R) AVX) instructions.\n"
     ]
    },
    {
     "name": "stderr",
     "output_type": "stream",
     "text": [
      "100%|██████████| 10000/10000 [00:00<00:00, 21553.67it/s]\n"
     ]
    },
    {
     "ename": "NameError",
     "evalue": "name 'scipy' is not defined",
     "output_type": "error",
     "traceback": [
      "\u001b[0;31m---------------------------------------------------------------------------\u001b[0m",
      "\u001b[0;31mNameError\u001b[0m                                 Traceback (most recent call last)",
      "Cell \u001b[0;32mIn[1], line 43\u001b[0m\n\u001b[1;32m     41\u001b[0m N_obs \u001b[38;5;241m=\u001b[39m \u001b[38;5;241m5\u001b[39m\n\u001b[1;32m     42\u001b[0m N_b \u001b[38;5;241m=\u001b[39m \u001b[38;5;241m0.5\u001b[39m\n\u001b[0;32m---> 43\u001b[0m Z0_freq \u001b[38;5;241m=\u001b[39m \u001b[43mFreqnetistZ0\u001b[49m\u001b[43m(\u001b[49m\u001b[43mN_obs\u001b[49m\u001b[43m,\u001b[49m\u001b[43m \u001b[49m\u001b[43mN_b\u001b[49m\u001b[43m)\u001b[49m\n\u001b[1;32m     44\u001b[0m \u001b[38;5;28mprint\u001b[39m(\u001b[38;5;124m\"\u001b[39m\u001b[38;5;124mFrequentist Z-score significance (N_obs=5, N_b=0.5): \u001b[39m\u001b[38;5;132;01m%.2f\u001b[39;00m\u001b[38;5;124m\"\u001b[39m \u001b[38;5;241m%\u001b[39m Z0_freq)\n\u001b[1;32m     46\u001b[0m \u001b[38;5;66;03m# Additional comparison case: Background-only model with yields b=4 and observed events n=5\u001b[39;00m\n",
      "Cell \u001b[0;32mIn[1], line 37\u001b[0m, in \u001b[0;36mFreqnetistZ0\u001b[0;34m(N_obs, N_b, n_toys)\u001b[0m\n\u001b[1;32m     34\u001b[0m p_value \u001b[38;5;241m=\u001b[39m np\u001b[38;5;241m.\u001b[39msum(np\u001b[38;5;241m.\u001b[39marray(q0_values) \u001b[38;5;241m>\u001b[39m\u001b[38;5;241m=\u001b[39m q0_obs) \u001b[38;5;241m/\u001b[39m n_toys\n\u001b[1;32m     36\u001b[0m \u001b[38;5;66;03m# Convert p-value to Z-score for significance\u001b[39;00m\n\u001b[0;32m---> 37\u001b[0m Z_score \u001b[38;5;241m=\u001b[39m \u001b[43mscipy\u001b[49m\u001b[38;5;241m.\u001b[39mstats\u001b[38;5;241m.\u001b[39mnorm\u001b[38;5;241m.\u001b[39mppf(\u001b[38;5;241m1\u001b[39m \u001b[38;5;241m-\u001b[39m p_value)\n\u001b[1;32m     38\u001b[0m \u001b[38;5;28;01mreturn\u001b[39;00m Z_score\n",
      "\u001b[0;31mNameError\u001b[0m: name 'scipy' is not defined"
     ]
    }
   ],
   "source": [
    "import numpy as np\n",
    "import matplotlib.pyplot as plt\n",
    "from scipy.stats import poisson\n",
    "from tqdm import tqdm\n",
    "\n",
    "# Define the test statistic q_0 for Frequentist approach\n",
    "def q0(N_obs, N_b):\n",
    "    # If observed events are less than or equal to background, q0 is zero\n",
    "    if N_obs <= N_b:\n",
    "        return 0\n",
    "    # Calculate the log-likelihood ratio between the background-only model and signal+background model\n",
    "    L_b = poisson.pmf(N_obs, N_b)  # Background-only likelihood\n",
    "    L_sb = poisson.pmf(N_obs, N_obs)  # Signal + background likelihood (s = n - b)\n",
    "    q0_out = -2 * np.log(L_b / L_sb)\n",
    "    return q0_out\n",
    "\n",
    "# Define function to calculate Frequentist Z-score significance\n",
    "def FreqnetistZ0(N_obs, N_b, n_toys=10000):\n",
    "    # Set random seed for reproducibility\n",
    "    np.random.seed(seed=8)\n",
    "    \n",
    "    # Step 1: Generate f(q_0 | B) distribution using toy experiments\n",
    "    q0_values = []\n",
    "    for _ in tqdm(range(n_toys)):\n",
    "        # Generate toy data from background-only model\n",
    "        toy_n = np.random.poisson(N_b)\n",
    "        q0_toy = q0(toy_n, N_b)\n",
    "        q0_values.append(q0_toy)\n",
    "    \n",
    "    # Calculate q0 for observed data\n",
    "    q0_obs = q0(N_obs, N_b)\n",
    "    \n",
    "    # Step 2: Calculate p-value as the fraction of toy experiments with q0 >= q0_obs\n",
    "    p_value = np.sum(np.array(q0_values) >= q0_obs) / n_toys\n",
    "    \n",
    "    # Convert p-value to Z-score for significance\n",
    "    Z_score = scipy.stats.norm.ppf(1 - p_value)\n",
    "    return Z_score\n",
    "\n",
    "# Example calculation: Background-only model with yields b=0.5 and observed events n=5\n",
    "N_obs = 5\n",
    "N_b = 0.5\n",
    "Z0_freq = FreqnetistZ0(N_obs, N_b)\n",
    "print(\"Frequentist Z-score significance (N_obs=5, N_b=0.5): %.2f\" % Z0_freq)\n",
    "\n",
    "# Additional comparison case: Background-only model with yields b=4 and observed events n=5\n",
    "N_obs2 = 5\n",
    "N_b2 = 4\n",
    "Z0_freq2 = FreqnetistZ0(N_obs2, N_b2)\n",
    "print(\"Frequentist Z-score significance (N_obs=5, N_b=4): %.2f\" % Z0_freq2)\n",
    "\n",
    "# Placeholder for Bayesian significance comparison\n",
    "# You would compare Z0_freq with Bayesian significance from Homework 5\n"
   ]
  },
  {
   "cell_type": "code",
   "execution_count": null,
   "id": "d5022724-3892-4cb1-8700-7f28324b8876",
   "metadata": {},
   "outputs": [],
   "source": []
  }
 ],
 "metadata": {
  "kernelspec": {
   "display_name": "Python 3 (ipykernel)",
   "language": "python",
   "name": "python3"
  },
  "language_info": {
   "codemirror_mode": {
    "name": "ipython",
    "version": 3
   },
   "file_extension": ".py",
   "mimetype": "text/x-python",
   "name": "python",
   "nbconvert_exporter": "python",
   "pygments_lexer": "ipython3",
   "version": "3.9.12"
  }
 },
 "nbformat": 4,
 "nbformat_minor": 5
}
