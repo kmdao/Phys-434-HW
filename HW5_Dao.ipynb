{
 "cells": [
  {
   "cell_type": "code",
   "execution_count": 23,
   "id": "729c4ca1-bf5c-4e66-9477-9d501fc45c0d",
   "metadata": {},
   "outputs": [],
   "source": [
    "import numpy as np\n",
    "import matplotlib.pyplot as plt\n",
    "import matplotlib as mpl\n",
    "import pandas as pd\n",
    "import uncertainties as unc\n",
    "import scipy\n",
    "from scipy import stats\n",
    "from scipy.stats import norm \n",
    "from scipy.stats import uniform\n",
    "from scipy.stats import binom\n",
    "from scipy.stats import poisson\n",
    "from numpy import random\n",
    "import scipy.constants as const\n",
    "from tabulate import tabulate\n",
    "import math\n",
    "%matplotlib inline"
   ]
  },
  {
   "cell_type": "code",
   "execution_count": null,
   "id": "cd73271c-4f31-47b3-b85d-fcb9293e7bd9",
   "metadata": {},
   "outputs": [],
   "source": []
  },
  {
   "cell_type": "markdown",
   "id": "eb515213-bf60-48d9-be14-79db6ee2ef8f",
   "metadata": {},
   "source": [
    "### Define Test Statistic for Frequentist Approach"
   ]
  },
  {
   "cell_type": "code",
   "execution_count": 25,
   "id": "5e6331ef-579d-4e1b-86a1-aa2a90ec1698",
   "metadata": {},
   "outputs": [],
   "source": [
    "# 1. We require signal event s>0 for positive signal yield.\n",
    "#        Therefore, the test statistics q_0 is 0 if N_obs <= Nb\n",
    "# 2. Compute two Poisson loglikelihood of\n",
    "#   a) backgorund only model\n",
    "#   b) signal+background model\n",
    "#   Evaluate -2 log likelihood ratio between a) and b)\n",
    "\n",
    "def q0(N_obs, Nb):\n",
    "    if N_obs <= Nb:\n",
    "        q_out = 0\n",
    "    else:\n",
    "        q0_out = N_obs - Nb\n",
    "    return q0_out"
   ]
  },
  {
   "cell_type": "markdown",
   "id": "1247e985-da8e-46e9-aeeb-d25c91d1433c",
   "metadata": {},
   "source": [
    "#### Apply Four Metrics"
   ]
  },
  {
   "cell_type": "code",
   "execution_count": 30,
   "id": "8746cdbb-258e-4bd9-84b6-dedf33b93a83",
   "metadata": {},
   "outputs": [],
   "source": [
    "def SimplifiedZ0(N_obs,N_b):\n",
    "    s = q0(N_obs, N_b)\n",
    "    Zscore = s / (N_b) ** (1/2)\n",
    "    return Zscore\n",
    "\n",
    "\n",
    "def AsymptoticZ0(N_obs,N_b):\n",
    "    s = q0(N_obs, N_b)\n",
    "    Zscore = (2 * ((s + N_b) * np.log(1 + (s / N_b)) - s)) ** (1/2)\n",
    "    return Zscore\n",
    "\n",
    "\n",
    "\n",
    "def BayesianZ0(N_obs,N_b):\n",
    "    pvalue = 1-poisson.cdf(N_obs, N_b)\n",
    "    Zscore= scipy.stats.norm.ppf(1-pvalue)\n",
    "    return Zscore"
   ]
  },
  {
   "cell_type": "markdown",
   "id": "cd513154-8f67-48df-a06a-b818d245017c",
   "metadata": {},
   "source": [
    "#### Now, let’s apply our code for numerical calculations.\n",
    "Consider the case that backogrund only model with yields b=0.5 and observed events n=5.\n",
    "Calclate discovery significance for each of the metric, respectively"
   ]
  },
  {
   "cell_type": "code",
   "execution_count": 21,
   "id": "9a695eda-4555-4c3b-a1ae-d6e72511a6f4",
   "metadata": {},
   "outputs": [],
   "source": [
    "Nobs=5\n",
    "Nb=0.5"
   ]
  },
  {
   "cell_type": "code",
   "execution_count": 31,
   "id": "fd8a696c-6a87-4010-8ed5-a9549c7ecfd5",
   "metadata": {},
   "outputs": [
    {
     "name": "stdout",
     "output_type": "stream",
     "text": [
      "6.363961030678928\n",
      "3.7451102693966782\n",
      "4.186492134133442\n"
     ]
    }
   ],
   "source": [
    "# Write your code here\n",
    "SimplifiedZ0 = SimplifiedZ0(Nobs, Nb)\n",
    "print(SimplifiedZ0)\n",
    "AsymptoticZ0 = AsymptoticZ0(Nobs, Nb)\n",
    "print(AsymptoticZ0)\n",
    "BayesianZ0 = BayesianZ0(Nobs, Nb)\n",
    "print(BayesianZ0)\n"
   ]
  },
  {
   "cell_type": "markdown",
   "id": "ccba89fe-f42f-42e2-9bc2-0d344e00006b",
   "metadata": {},
   "source": [
    "#### Describe the consistency between different metrics."
   ]
  },
  {
   "cell_type": "code",
   "execution_count": null,
   "id": "a44c5fcc-029a-4c65-8003-c6978de3ffc9",
   "metadata": {},
   "outputs": [],
   "source": []
  }
 ],
 "metadata": {
  "kernelspec": {
   "display_name": "Python 3 (ipykernel)",
   "language": "python",
   "name": "python3"
  },
  "language_info": {
   "codemirror_mode": {
    "name": "ipython",
    "version": 3
   },
   "file_extension": ".py",
   "mimetype": "text/x-python",
   "name": "python",
   "nbconvert_exporter": "python",
   "pygments_lexer": "ipython3",
   "version": "3.9.12"
  }
 },
 "nbformat": 4,
 "nbformat_minor": 5
}
