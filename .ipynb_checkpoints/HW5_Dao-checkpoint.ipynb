{
 "cells": [
  {
   "cell_type": "code",
   "execution_count": 30,
   "id": "729c4ca1-bf5c-4e66-9477-9d501fc45c0d",
   "metadata": {},
   "outputs": [],
   "source": [
    "import numpy as np\n",
    "import matplotlib.pyplot as plt\n",
    "import matplotlib as mpl\n",
    "import pandas as pd\n",
    "import uncertainties as unc\n",
    "import scipy\n",
    "from scipy import stats\n",
    "from scipy.stats import norm \n",
    "from scipy.stats import uniform\n",
    "from scipy.stats import binom\n",
    "from scipy.stats import poisson\n",
    "from numpy import random\n",
    "import scipy.constants as const\n",
    "from tabulate import tabulate\n",
    "import math\n",
    "%matplotlib inline"
   ]
  },
  {
   "cell_type": "markdown",
   "id": "eb515213-bf60-48d9-be14-79db6ee2ef8f",
   "metadata": {},
   "source": [
    "### Define Test Statistic for Frequentist Approach"
   ]
  },
  {
   "cell_type": "code",
   "execution_count": 31,
   "id": "5e6331ef-579d-4e1b-86a1-aa2a90ec1698",
   "metadata": {},
   "outputs": [],
   "source": [
    "# 1. We require signal event s>0 for positive signal yield.\n",
    "#        Therefore, the test statistics q_0 is 0 if N_obs <= Nb\n",
    "# 2. Compute two Poisson loglikelihood of\n",
    "#   a) backgorund only model\n",
    "#   b) signal+background model\n",
    "#   Evaluate -2 log likelihood ratio between a) and b)\n",
    "\n",
    "def q0(N_obs, Nb):\n",
    "    if N_obs <= Nb:\n",
    "        q_out = 0\n",
    "    else:\n",
    "        # NLL of background only\n",
    "        NLL_bkg = -2 * (N_obs * np.log(Nb) - Nb - np.log(math.factorial(N_obs)))\n",
    "        # NLL of sig + background\n",
    "        NLL_sig_bkg = N_obs * np.log(Nb + N_obs) - (Nb + N_obs) - np.log(math.factorial(N_obs))\n",
    "        q0_out = Nobs - Nb \n",
    "    return q0_out"
   ]
  },
  {
   "cell_type": "markdown",
   "id": "1247e985-da8e-46e9-aeeb-d25c91d1433c",
   "metadata": {},
   "source": [
    "#### Apply Four Metrics"
   ]
  },
  {
   "cell_type": "code",
   "execution_count": 33,
   "id": "8746cdbb-258e-4bd9-84b6-dedf33b93a83",
   "metadata": {},
   "outputs": [],
   "source": [
    "def SimplifiedZ0(N_obs,N_b):\n",
    "    s = q0(N_obs, N_b)\n",
    "    Zscore = s / (N_b) ** (1/2)\n",
    "    return Zscore\n",
    "\n",
    "\n",
    "def AsymptoticZ0(N_obs,N_b):\n",
    "    s = q0(N_obs, N_b)\n",
    "    Zscore = (2 * ((s + N_b) * np.log(1 + (s / N_b)) - s)) ** (1/2)\n",
    "    return Zscore\n",
    "\n",
    "\n",
    "\n",
    "def BayesianZ0(N_obs,N_b):\n",
    "    pvalue = 1-poisson.cdf(N_obs, N_b)\n",
    "    Zscore= scipy.stats.norm.ppf(1-pvalue)\n",
    "    return Zscore"
   ]
  },
  {
   "cell_type": "markdown",
   "id": "cd513154-8f67-48df-a06a-b818d245017c",
   "metadata": {},
   "source": [
    "#### Now, let’s apply our code for numerical calculations.\n",
    "Consider the case that backogrund only model with yields b=0.5 and observed events n=5.\n",
    "Calclate discovery significance for each of the metric, respectively"
   ]
  },
  {
   "cell_type": "code",
   "execution_count": 34,
   "id": "9a695eda-4555-4c3b-a1ae-d6e72511a6f4",
   "metadata": {},
   "outputs": [
    {
     "name": "stdout",
     "output_type": "stream",
     "text": [
      "4.5\n"
     ]
    }
   ],
   "source": [
    "Nobs=5\n",
    "Nb=0.5\n",
    "print(q0(Nobs, Nb))"
   ]
  },
  {
   "cell_type": "code",
   "execution_count": 35,
   "id": "fd8a696c-6a87-4010-8ed5-a9549c7ecfd5",
   "metadata": {},
   "outputs": [
    {
     "name": "stdout",
     "output_type": "stream",
     "text": [
      "6.363961030678928\n",
      "3.7451102693966782\n",
      "4.186492134133442\n"
     ]
    }
   ],
   "source": [
    "# Discovery Significnce for Each Metric Using Functions\n",
    "SimplifiedZ0 = SimplifiedZ0(Nobs, Nb)\n",
    "print(SimplifiedZ0)\n",
    "AsymptoticZ0 = AsymptoticZ0(Nobs, Nb)\n",
    "print(AsymptoticZ0)\n",
    "BayesianZ0 = BayesianZ0(Nobs, Nb)\n",
    "print(BayesianZ0)\n"
   ]
  },
  {
   "cell_type": "markdown",
   "id": "ccba89fe-f42f-42e2-9bc2-0d344e00006b",
   "metadata": {},
   "source": [
    "#### Describe the consistency between different metrics."
   ]
  },
  {
   "cell_type": "markdown",
   "id": "d7209bcd-2c98-4ddb-bd75-fa0176bf8917",
   "metadata": {},
   "source": [
    "The simplified method discovery significance of 6.3; this is much higher than that found by the asymptotic and bayesian calculations, which gave 3.7 and 4.1, respectively. The Bayesian $Z_0$ should be the best estimate, as the p-value is found by the Poisson distribution, which is more consistent with our test statistic distrubution, which uses the negative log likelihood of the poisson distribution. Since the simplified metric only uses $\\frac{s}{\\sqrt{b}}$, it doesn't accound for the shape and discrete nature of the poisson distribution. The asymptotic metric is better in finding the significance than the simplified, as it uses teh negative log likelihood in rather than the simpler fraction used by the simplified metric and $N_{obs}$ is much smaller than $N_s$."
   ]
  },
  {
   "cell_type": "code",
   "execution_count": null,
   "id": "dd66a149-6706-4250-bba5-57d3adabbaa2",
   "metadata": {},
   "outputs": [],
   "source": []
  }
 ],
 "metadata": {
  "kernelspec": {
   "display_name": "Python 3 (ipykernel)",
   "language": "python",
   "name": "python3"
  },
  "language_info": {
   "codemirror_mode": {
    "name": "ipython",
    "version": 3
   },
   "file_extension": ".py",
   "mimetype": "text/x-python",
   "name": "python",
   "nbconvert_exporter": "python",
   "pygments_lexer": "ipython3",
   "version": "3.9.12"
  }
 },
 "nbformat": 4,
 "nbformat_minor": 5
}
