{
 "cells": [
  {
   "cell_type": "code",
   "execution_count": 3,
   "id": "993eee3d-2b04-4083-a4a7-212015623435",
   "metadata": {},
   "outputs": [
    {
     "name": "stdout",
     "output_type": "stream",
     "text": [
      "Simplified Z0: 6.363961030678928\n",
      "Asymptotic Z0: 3.7451102693966782\n",
      "Bayesian Z0: 4.186492134133442\n"
     ]
    }
   ],
   "source": [
    "import numpy as np\n",
    "import scipy.stats\n",
    "\n",
    "# Observed and background counts\n",
    "N_obs = 5\n",
    "Nb = 0.5\n",
    "\n",
    "# Simplified Z0\n",
    "def SimplifiedZ0(N_obs, N_b):\n",
    "    s = N_obs - N_b\n",
    "    return s / np.sqrt(N_b)\n",
    "\n",
    "# Asymptotic Z0\n",
    "def AsymptoticZ0(N_obs, N_b):\n",
    "    s = N_obs - N_b\n",
    "    return np.sqrt(2 * ((s + N_b) * np.log(1 + s / N_b) - s))\n",
    "\n",
    "# Bayesian Z0\n",
    "def BayesianZ0(N_obs, N_b):\n",
    "    # Calculate the p-value using the Poisson CDF\n",
    "    p_value = 1 - scipy.stats.poisson.cdf(N_obs, N_b)\n",
    "    # Convert p-value to Z-score\n",
    "    return scipy.stats.norm.ppf(1 - p_value)\n",
    "\n",
    "# Calculate each discovery significance\n",
    "simplified_z0 = SimplifiedZ0(N_obs, Nb)\n",
    "asymptotic_z0 = AsymptoticZ0(N_obs, Nb)\n",
    "bayesian_z0 = BayesianZ0(N_obs, Nb)\n",
    "\n",
    "print(\"Simplified Z0:\", simplified_z0)\n",
    "print(\"Asymptotic Z0:\", asymptotic_z0)\n",
    "print(\"Bayesian Z0:\", bayesian_z0)\n"
   ]
  },
  {
   "cell_type": "code",
   "execution_count": 4,
   "id": "1f1773fc-1dd5-4516-a686-79b986fca45c",
   "metadata": {},
   "outputs": [
    {
     "name": "stderr",
     "output_type": "stream",
     "text": [
      "100%|██████████| 10000/10000 [00:00<00:00, 21422.08it/s]\n"
     ]
    },
    {
     "name": "stdout",
     "output_type": "stream",
     "text": [
      "Frequentist Z-score significance (N_obs=5, N_b=0.5): 3.72\n"
     ]
    },
    {
     "name": "stderr",
     "output_type": "stream",
     "text": [
      "100%|██████████| 10000/10000 [00:00<00:00, 22678.77it/s]"
     ]
    },
    {
     "name": "stdout",
     "output_type": "stream",
     "text": [
      "Frequentist Z-score significance (N_obs=5, N_b=4): 0.34\n"
     ]
    },
    {
     "name": "stderr",
     "output_type": "stream",
     "text": [
      "\n"
     ]
    }
   ],
   "source": [
    "import numpy as np\n",
    "import matplotlib.pyplot as plt\n",
    "from scipy.stats import poisson\n",
    "from tqdm import tqdm\n",
    "\n",
    "# Define the test statistic q_0 for Frequentist approach\n",
    "def q0(N_obs, N_b):\n",
    "    # If observed events are less than or equal to background, q0 is zero\n",
    "    if N_obs <= N_b:\n",
    "        return 0\n",
    "    # Calculate the log-likelihood ratio between the background-only model and signal+background model\n",
    "    L_b = poisson.pmf(N_obs, N_b)  # Background-only likelihood\n",
    "    L_sb = poisson.pmf(N_obs, N_obs)  # Signal + background likelihood (s = n - b)\n",
    "    q0_out = -2 * np.log(L_b / L_sb)\n",
    "    return q0_out\n",
    "\n",
    "# Define function to calculate Frequentist Z-score significance\n",
    "def FreqnetistZ0(N_obs, N_b, n_toys=10000):\n",
    "    # Set random seed for reproducibility\n",
    "    np.random.seed(seed=8)\n",
    "    \n",
    "    # Step 1: Generate f(q_0 | B) distribution using toy experiments\n",
    "    q0_values = []\n",
    "    for _ in tqdm(range(n_toys)):\n",
    "        # Generate toy data from background-only model\n",
    "        toy_n = np.random.poisson(N_b)\n",
    "        q0_toy = q0(toy_n, N_b)\n",
    "        q0_values.append(q0_toy)\n",
    "    \n",
    "    # Calculate q0 for observed data\n",
    "    q0_obs = q0(N_obs, N_b)\n",
    "    \n",
    "    # Step 2: Calculate p-value as the fraction of toy experiments with q0 >= q0_obs\n",
    "    p_value = np.sum(np.array(q0_values) >= q0_obs) / n_toys\n",
    "    \n",
    "    # Convert p-value to Z-score for significance\n",
    "    Z_score = scipy.stats.norm.ppf(1 - p_value)\n",
    "    return Z_score\n",
    "\n",
    "# Example calculation: Background-only model with yields b=0.5 and observed events n=5\n",
    "N_obs = 5\n",
    "N_b = 0.5\n",
    "Z0_freq = FreqnetistZ0(N_obs, N_b)\n",
    "print(\"Frequentist Z-score significance (N_obs=5, N_b=0.5): %.2f\" % Z0_freq)\n",
    "\n",
    "# Additional comparison case: Background-only model with yields b=4 and observed events n=5\n",
    "N_obs2 = 5\n",
    "N_b2 = 4\n",
    "Z0_freq2 = FreqnetistZ0(N_obs2, N_b2)\n",
    "print(\"Frequentist Z-score significance (N_obs=5, N_b=4): %.2f\" % Z0_freq2)\n",
    "\n",
    "# Placeholder for Bayesian significance comparison\n",
    "# You would compare Z0_freq with Bayesian significance from Homework 5\n"
   ]
  },
  {
   "cell_type": "code",
   "execution_count": null,
   "id": "70480ac1-5350-42a2-87bf-39339a5e18a7",
   "metadata": {},
   "outputs": [],
   "source": []
  }
 ],
 "metadata": {
  "kernelspec": {
   "display_name": "Python 3 (ipykernel)",
   "language": "python",
   "name": "python3"
  },
  "language_info": {
   "codemirror_mode": {
    "name": "ipython",
    "version": 3
   },
   "file_extension": ".py",
   "mimetype": "text/x-python",
   "name": "python",
   "nbconvert_exporter": "python",
   "pygments_lexer": "ipython3",
   "version": "3.9.12"
  }
 },
 "nbformat": 4,
 "nbformat_minor": 5
}
