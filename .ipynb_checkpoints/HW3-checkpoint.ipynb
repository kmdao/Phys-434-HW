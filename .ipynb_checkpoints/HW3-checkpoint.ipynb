{
 "cells": [
  {
   "cell_type": "code",
   "execution_count": 2,
   "id": "ebc13d8b-cc8e-4baa-9844-4c28bee11b82",
   "metadata": {},
   "outputs": [],
   "source": [
    "import numpy as np\n",
    "import matplotlib.pyplot as plt\n",
    "import matplotlib as mpl\n",
    "import pandas as pd\n",
    "import uncertainties as unc\n",
    "from scipy import stats\n",
    "from scipy.stats import norm \n",
    "from scipy.stats import uniform\n",
    "from scipy.stats import binom\n",
    "from scipy.stats import poisson\n",
    "import scipy.constants as const\n",
    "from tabulate import tabulate\n",
    "import math\n",
    "%matplotlib inline"
   ]
  },
  {
   "cell_type": "markdown",
   "id": "6dcf7f2e-2468-456c-80f3-1d07b1168ee6",
   "metadata": {},
   "source": [
    "# Estimating $\\pi$"
   ]
  },
  {
   "cell_type": "code",
   "execution_count": null,
   "id": "d096dd44-28ff-43f5-a742-b2923b88e213",
   "metadata": {},
   "outputs": [],
   "source": [
    "# # Generate N=1000 points (x,y) within a square of size [0,1]\n",
    "\n",
    "# for i in range(N):\n",
    "#     points = np.zeros((N, 2))\n",
    "#     points[N, 0] = random.rvs()\n",
    "#     points[N, 1] = random.rvs()\n",
    "#     return\n",
    "\n",
    "    \n",
    "\n",
    "    "
   ]
  },
  {
   "cell_type": "code",
   "execution_count": 3,
   "id": "00aed8e6-e4c9-4165-bc97-d18e052dc422",
   "metadata": {},
   "outputs": [
    {
     "name": "stdout",
     "output_type": "stream",
     "text": [
      "0.004\n"
     ]
    },
    {
     "data": {
      "image/png": "[encoded data removed]",
      "text/plain": [
       "<Figure size 432x288 with 1 Axes>"
      ]
     },
     "metadata": {
      "needs_background": "light"
     },
     "output_type": "display_data"
    }
   ],
   "source": [
    "# a. Generate N=1000 random points (x,y) within a square by requiring the range of x and y are both within [0, 1].\n",
    "\n",
    "points = np.zeros((1000, 2), dtype=object)\n",
    "\n",
    "\n",
    "for i in range(1000):\n",
    "    points[i, 0] = np.random.random([1])\n",
    "    points[i, 1] = np.random.random([1])\n",
    "\n",
    "\n",
    "for j in range (1000):\n",
    "    if np.sqrt(points[j, 0] ** 2 + points[j, 1] **2 ) < 1:\n",
    "        plt.scatter(points[j, 0], points[j, 1], s=None, c='r')\n",
    "    else:\n",
    "        plt.scatter(points[j, 0], points[j, 1], s=None, c='b')\n",
    "        \n",
    "        \n",
    "x = np.linspace(0, 1, 1000)\n",
    "\n",
    "plt.plot(x, np.sqrt(1 - x **2 ), '-k', lw=3)\n",
    "\n",
    "\n",
    "# c. Count number of points inside the unit circle, and estimate the value and uncertainty of π\n",
    "\n",
    "x = points[:, 0]\n",
    "y = points[:, 1]\n",
    "\n",
    "z = np.zeros(1000)\n",
    "\n",
    "for i in range(1000):\n",
    "    z[i]= np.sqrt(x[i]**2 + y[i]**2)\n",
    "\n",
    "count_inside = len( np.where(z < 1.) )\n",
    "pi = 1.*count_inside/1000 * 4.\n",
    "\n",
    "print(pi)\n",
    "    \n",
    "# d. Repeat steps abobe with N=10K and 1000K. Discuss the results in terms of numerical consistency with known π \n",
    "# value, and scaling rule of the uncertainty."
   ]
  },
  {
   "cell_type": "code",
   "execution_count": null,
   "id": "d1cf7bbe-5608-476f-bcfe-1698968fba09",
   "metadata": {},
   "outputs": [],
   "source": []
  },
  {
   "cell_type": "code",
   "execution_count": null,
   "id": "33531728-232c-43bb-a74f-b078f3c47ae0",
   "metadata": {},
   "outputs": [
    {
     "name": "stdout",
     "output_type": "stream",
     "text": [
      "For N = 1000, the estimate of pi is 4.0\n",
      "For N = 10000, the estimate of pi is 4.0\n"
     ]
    }
   ],
   "source": [
    "# a. Generate N=1000 random points (x,y) within a square by requiring the range of x and y are both within [0, 1].\n",
    "\n",
    "# b. Visualize the result with red dots when data points are inside the unit circle (otherwise blue dots). \n",
    "# In the figure, draw the unit circle as boundar line.\n",
    "\n",
    "def area(N):\n",
    "    points = np.zeros((N, 2), dtype=object)\n",
    "    for i in range(N):\n",
    "        points[i, 0] = np.random.random([1])\n",
    "        points[i, 1] = np.random.random([1])\n",
    "    for j in range (N):\n",
    "        if np.sqrt(points[j, 0] ** 2 + points[j, 1] **2 ) < 1:\n",
    "            plt.scatter(points[j, 0], points[j, 1], s=None, c='r')\n",
    "        else:\n",
    "            plt.scatter(points[j, 0], points[j, 1], s=None, c='b')\n",
    "    x = np.linspace(0, 1, N)\n",
    "    plt.plot(x, np.sqrt(1 - x **2 ), '-k', lw=3)\n",
    "    plt.xlabel('x')\n",
    "    plt.ylabel('y')\n",
    "    plt.title('Estimating pi with a random sample and unit circl')\n",
    "plt.show()\n",
    "    \n",
    "area(1000)\n",
    "\n",
    "\n",
    "# c. Count number of points inside the unit circle, and estimate the value and uncertainty of π\n",
    "def estimate_pi(N):\n",
    "    points = np.zeros((N, 2), dtype=object)\n",
    "    x = points[:, 0]\n",
    "    y = points[:, 1]\n",
    "    z = np.zeros(N)\n",
    "    def inside_circle(points):\n",
    "        inside = []\n",
    "        for i in range(N):\n",
    "            if np.sqrt(points[i, 0] ** 2 + points[i, 1] ** 2) < 1:\n",
    "                inside.append(1)\n",
    "            else:\n",
    "                inside.append(0)\n",
    "        return inside\n",
    "    inside = inside_circle(points)\n",
    "    density = 4. * np.count_nonzero(inside) / N\n",
    "    return density\n",
    "    \n",
    "print('For N = 1000, the estimate of pi is ' + str(estimate_pi(1000)))\n",
    "# d. Repeat steps abobe with N=10K and 1000K. Discuss the results in terms of numerical consistency with known π \n",
    "# # value, and scaling rule of the uncertainty.\n",
    "\n",
    "print('For N = 10000, the estimate of pi is ' + str(estimate_pi(10000)))\n",
    "area(10000)\n",
    "print('For N = 10000, the estimate of pi is ' + str(estimate_pi(100000)))\n",
    "area(100000)"
   ]
  },
  {
   "cell_type": "code",
   "execution_count": null,
   "id": "ee9d073a-5580-4961-977a-567d8f338485",
   "metadata": {},
   "outputs": [],
   "source": [
    "def keep(N):   \n",
    "    i = 0\n",
    "    accept = np.zeros(N)\n",
    "    def f(x):\n",
    "        return x ** 2\n",
    "    end = f(1)\n",
    "    while i < N:\n",
    "        x = random.uniform(low=-1., high=1.0, size=1)\n",
    "        y = random.uniform(low=0., high=end, size=1)\n",
    "        w = f(x)\n",
    "        if w >= y:            \n",
    "            accept[i] = x\n",
    "            i = i + 1\n",
    "    return accept\n",
    "\n",
    "#Generate this sample until accepted events N=10000 events\n",
    "rejection_sample = keep(10000)"
   ]
  },
  {
   "cell_type": "code",
   "execution_count": null,
   "id": "80b7b280-f84b-4e1f-8e38-d3ccdbe1c043",
   "metadata": {},
   "outputs": [],
   "source": [
    "def transformed_inv(x):\n",
    "    y = (3^(1/3)) * (x^(1/3))\n",
    "    return y\n"
   ]
  },
  {
   "cell_type": "code",
   "execution_count": null,
   "id": "1cacbba5-1029-448f-861f-d2d22d7463c7",
   "metadata": {},
   "outputs": [],
   "source": [
    "s = np.zeros(10000, dtype=object)\n",
    "o = np.zeros(10000)\n",
    "def f(x):\n",
    "    return x**2"
   ]
  },
  {
   "cell_type": "code",
   "execution_count": null,
   "id": "b28404a8-bd54-4aa2-be92-acb861bc50a0",
   "metadata": {},
   "outputs": [],
   "source": []
  }
 ],
 "metadata": {
  "kernelspec": {
   "display_name": "Python 3 (ipykernel)",
   "language": "python",
   "name": "python3"
  },
  "language_info": {
   "codemirror_mode": {
    "name": "ipython",
    "version": 3
   },
   "file_extension": ".py",
   "mimetype": "text/x-python",
   "name": "python",
   "nbconvert_exporter": "python",
   "pygments_lexer": "ipython3",
   "version": "3.9.12"
  }
 },
 "nbformat": 4,
 "nbformat_minor": 5
}
