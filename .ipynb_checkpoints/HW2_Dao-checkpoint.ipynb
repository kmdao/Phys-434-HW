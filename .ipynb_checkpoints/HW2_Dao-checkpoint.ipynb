{
 "cells": [
  {
   "cell_type": "code",
   "execution_count": null,
   "id": "93af28f1-dd9c-49b7-b5a4-5831b50abacc",
   "metadata": {},
   "outputs": [],
   "source": [
    "import numpy as np\n",
    "import matplotlib.pyplot as plt\n",
    "import matplotlib as mpl\n",
    "import pandas as pd\n",
    "import uncertainties as unc\n",
    "from scipy.stats import norm \n",
    "import scipy.constants as const\n",
    "%matplotlib inline"
   ]
  },
  {
   "cell_type": "markdown",
   "id": "c12bf555-de65-4375-ac83-00793266366c",
   "metadata": {},
   "source": [
    "# Transformation of Variables\n",
    "For a random uniform distributon of x between 0 and 1, the probability density is $f(x)$. Find the probability density function $g(u)$ of transformation $u=e^{-x}$."
   ]
  },
  {
   "cell_type": "markdown",
   "id": "dada0b22-9b5d-4f1a-bc34-6177a6c5f3f2",
   "metadata": {},
   "source": [
    "### 1. Show details of the derivation of $g(u)$"
   ]
  },
  {
   "cell_type": "markdown",
   "id": "03259465-5062-4b97-8635-1dc03d4d4358",
   "metadata": {},
   "source": []
  },
  {
   "cell_type": "markdown",
   "id": "f55ba1d0-b47c-4abb-9f9f-ec42333cfcaf",
   "metadata": {},
   "source": [
    "### 2. Draw three figures: transformation function $u(x)$, $f(x)$, and $g(u)$"
   ]
  },
  {
   "cell_type": "code",
   "execution_count": null,
   "id": "af94c580-1183-413d-88c7-3819ed65561b",
   "metadata": {},
   "outputs": [],
   "source": []
  },
  {
   "cell_type": "markdown",
   "id": "38d2bda0-64d3-40ff-966c-a12b8aca2f52",
   "metadata": {},
   "source": [
    "# Rolling of Two 6-sided Dice\n",
    "Each of the faces has the same probability of landing facing up. Calculate analytic answers of the following questions (show details)."
   ]
  },
  {
   "cell_type": "markdown",
   "id": "cee79b7c-7650-4c56-9f7c-d4ce9482c7e7",
   "metadata": {},
   "source": [
    "### 1. What is the probability of rolling snake eyes (two 1s) in a single throw?"
   ]
  },
  {
   "cell_type": "code",
   "execution_count": null,
   "id": "c03c7ebd-b3e9-4ddc-8e88-90bcf8b87305",
   "metadata": {},
   "outputs": [],
   "source": []
  },
  {
   "cell_type": "markdown",
   "id": "23e0dea5-c6bc-42e3-8a32-22381cc76e0c",
   "metadata": {},
   "source": [
    "### 2. What is the probability of a roll where the two thrown dice sum to five?"
   ]
  },
  {
   "cell_type": "code",
   "execution_count": null,
   "id": "5edec509-adf3-44fd-b2ae-bf4a78ed359a",
   "metadata": {},
   "outputs": [],
   "source": []
  },
  {
   "cell_type": "markdown",
   "id": "8c6a94f2-73b0-420e-aa02-43870225ca45",
   "metadata": {},
   "source": [
    "### 3. Compare rolling the dice 5 times and getting at leaast one snake eye. Is the probability larger than a roll that sums to five?"
   ]
  },
  {
   "cell_type": "code",
   "execution_count": null,
   "id": "f662fe99-3b9e-43f2-9bbe-7b7e999c8398",
   "metadata": {},
   "outputs": [],
   "source": []
  },
  {
   "cell_type": "markdown",
   "id": "a0668e65-3bd7-4d9d-a30b-db49544258fd",
   "metadata": {},
   "source": [
    "# Compare Probability Distribution Functions\n",
    "Three probability distribution functions: Binomial, Poisson, and Normal function."
   ]
  },
  {
   "cell_type": "markdown",
   "id": "73fbfe69-478e-447a-884d-9429e524547c",
   "metadata": {},
   "source": [
    "### 1. Binomial($N=10$, $p=0.02$), Poisson($\\lambda=0.2$), and Normal($\\mu=0.2$, $\\sigma=0.45$)"
   ]
  },
  {
   "cell_type": "markdown",
   "id": "33531dbe-c3ec-4921-856a-73ddb455c2ce",
   "metadata": {},
   "source": [
    "#### A. Draw three functions in the same plot, and scale the area under the curve of each function to 1."
   ]
  },
  {
   "cell_type": "code",
   "execution_count": null,
   "id": "beb719a9-995c-46b1-a008-2459b3f73543",
   "metadata": {},
   "outputs": [],
   "source": []
  },
  {
   "cell_type": "markdown",
   "id": "530da87e-c394-4944-b9bd-0d80715ca53a",
   "metadata": {},
   "source": [
    "#### B. Create a table to compare numerical values of Mean, Sigma, Skewness, and Kurtosis."
   ]
  },
  {
   "cell_type": "code",
   "execution_count": null,
   "id": "3cae9422-50d8-47c3-87dc-67e3b73a2ad4",
   "metadata": {},
   "outputs": [],
   "source": []
  },
  {
   "cell_type": "markdown",
   "id": "d665dda4-2f8d-4278-a84f-acbad8779441",
   "metadata": {},
   "source": [
    "### 2. Binomial($N=100$, $p=0.02$), Poisson($\\lambda==2$), and Normal($\\mu=2$, $\\sigma=1.4$)"
   ]
  },
  {
   "cell_type": "markdown",
   "id": "3871e465-19a9-43de-9675-7f7ff7e33010",
   "metadata": {},
   "source": [
    "#### A. Draw three functions in the same plot, and scale the area under the curve of each function to 1."
   ]
  },
  {
   "cell_type": "code",
   "execution_count": null,
   "id": "627757b8-b154-4ecb-a1ae-569ce7a23418",
   "metadata": {},
   "outputs": [],
   "source": []
  },
  {
   "cell_type": "markdown",
   "id": "1f988764-232f-4617-adef-5e6fe282b11c",
   "metadata": {},
   "source": [
    "#### B. Create a table to compare numerical values of Mean, Sigma, Skewness, and Kurtosis."
   ]
  },
  {
   "cell_type": "code",
   "execution_count": null,
   "id": "b963b702-e4da-40c6-83ca-e9055a9413e5",
   "metadata": {},
   "outputs": [],
   "source": []
  },
  {
   "cell_type": "markdown",
   "id": "f7785614-220a-41bf-96c4-e30feb4257a8",
   "metadata": {},
   "source": [
    "### 3. Binomial($N=1000$, $p=0.02$), Poisson($\\lambda=20$), and Normal($\\mu=20$, $\\sigma=4.5$)"
   ]
  },
  {
   "cell_type": "markdown",
   "id": "ea527ae7-4ab4-4d7f-9f2a-fb9996b7f31e",
   "metadata": {},
   "source": [
    "#### A. Draw three functions in the same plot, and scale the area under the curve of each function to 1."
   ]
  },
  {
   "cell_type": "code",
   "execution_count": null,
   "id": "a5368c9c-6ea0-423f-be12-0cb964e10626",
   "metadata": {},
   "outputs": [],
   "source": []
  },
  {
   "cell_type": "markdown",
   "id": "7ebef0ad-eb0f-4e35-b12a-21ae24873e50",
   "metadata": {},
   "source": [
    "#### B. Create a table to compare numerical values of Mean, Sigma, Skewness, and Kurtosis."
   ]
  },
  {
   "cell_type": "code",
   "execution_count": null,
   "id": "6825a4bf-3de2-403c-8a1a-6527411dc113",
   "metadata": {},
   "outputs": [],
   "source": []
  }
 ],
 "metadata": {
  "kernelspec": {
   "display_name": "Python 3 (ipykernel)",
   "language": "python",
   "name": "python3"
  },
  "language_info": {
   "codemirror_mode": {
    "name": "ipython",
    "version": 3
   },
   "file_extension": ".py",
   "mimetype": "text/x-python",
   "name": "python",
   "nbconvert_exporter": "python",
   "pygments_lexer": "ipython3",
   "version": "3.9.12"
  }
 },
 "nbformat": 4,
 "nbformat_minor": 5
}
