{
 "cells": [
  {
   "cell_type": "code",
   "execution_count": null,
   "id": "fb4b5872-e7d1-4368-b2ca-5c758a910f01",
   "metadata": {},
   "outputs": [],
   "source": [
    "import numpy as np\n",
    "import matplotlib.pyplot as plt\n",
    "import matplotlib as mpl\n",
    "import pandas as pd\n",
    "import uncertainties as unc\n",
    "from scipy import stats\n",
    "from scipy.stats import norm \n",
    "from scipy.stats import uniform\n",
    "from scipy.stats import binom\n",
    "from scipy.stats import poisson\n",
    "from numpy import random\n",
    "import scipy.constants as const\n",
    "from tabulate import tabulate\n",
    "import math\n",
    "%matplotlib inline"
   ]
  },
  {
   "cell_type": "markdown",
   "id": "0576d48c-b319-4cd2-8d2a-acdf764e2b63",
   "metadata": {},
   "source": [
    "# 1.1 Intro\n",
    "Use the maximum likelihood estimate method to find the probability distribution functtion\n",
    "𝑓(𝑥|𝑎, 𝑏) = 𝑥0 + 𝑎𝑥 + 𝑏𝑥2 that best describes the following dataset: https://canvas.uw.edu/\n",
    "files/125432781/download?download_frd=1.\n",
    "In this parameterization 𝑥0 is a fucntion of (a,b) and it normalizes the PDF 𝑓(𝑥|𝑎, 𝑏) within the\n",
    "range [−1, 1]."
   ]
  },
  {
   "cell_type": "code",
   "execution_count": null,
   "id": "8335203f-443a-4256-bb6e-35fdf575639c",
   "metadata": {},
   "outputs": [],
   "source": []
  },
  {
   "cell_type": "code",
   "execution_count": null,
   "id": "ad913c51-8655-4f57-a54e-7b75f28497bd",
   "metadata": {},
   "outputs": [],
   "source": []
  },
  {
   "cell_type": "code",
   "execution_count": null,
   "id": "ca25d284-d160-4b5f-a899-cb33e40ed288",
   "metadata": {},
   "outputs": [],
   "source": []
  },
  {
   "cell_type": "markdown",
   "id": "7291cba0-0e67-45db-a00c-9ae9ecc793dd",
   "metadata": {},
   "source": [
    "### 1.2 (1) Find and fit using the negative log likelihood\n",
    "Using techniques we’ve discussed find the negative log likelihood for (𝑎, 𝑏) using the provided\n",
    "dataset.\n",
    "Follow the tutorial of the iminuit package to find the best likelihood fit results. The tutorial can be\n",
    "found here: https://scikit-hep.org/iminuit/notebooks/cost_functions.html. PLease note\n",
    "that iminuit is very sensitive to the beginning parameter values and the allowed range of each\n",
    "parameter - so expect to fiddle a bit to get it to work properly."
   ]
  },
  {
   "cell_type": "code",
   "execution_count": null,
   "id": "e81e093f-fd84-4013-ac82-15842407fe7e",
   "metadata": {},
   "outputs": [],
   "source": []
  },
  {
   "cell_type": "code",
   "execution_count": null,
   "id": "f3874973-56be-45f6-9635-1d3a9eed50a2",
   "metadata": {},
   "outputs": [],
   "source": []
  },
  {
   "cell_type": "markdown",
   "id": "d8b27ab1-6da3-4945-8fd1-aa5fec8d1b65",
   "metadata": {},
   "source": [
    "### 1.3 (2) Plot the fit\n",
    "Project the data into a histogram with range [−1, 1] and bin width 0.1. Draw statistical unvertianty\n",
    "as a vertical bar in each bin. Draw the best-fit PDF from (1) on top.\n"
   ]
  },
  {
   "cell_type": "code",
   "execution_count": null,
   "id": "1c073c43-b078-440b-9882-4f31deb8b99b",
   "metadata": {},
   "outputs": [],
   "source": []
  },
  {
   "cell_type": "code",
   "execution_count": null,
   "id": "468042d5-3734-49f7-8018-5d75e6df98f8",
   "metadata": {},
   "outputs": [],
   "source": []
  },
  {
   "cell_type": "markdown",
   "id": "dbfbe769-f119-470a-8658-220c82e889b7",
   "metadata": {},
   "source": [
    "### 1.4 (3) Countours\n",
    "Draw the contour of the negative log likelihood, −2 ln(𝐿) as a function of (𝑎, 𝑏). Plot the best-fit\n",
    "values with dashed lines. Results should look something like below (you’ll need to adjust ranges,\n",
    "etc. etc.):\n"
   ]
  },
  {
   "cell_type": "code",
   "execution_count": null,
   "id": "18200404-476c-40dd-88c7-ea3d5383eaf1",
   "metadata": {},
   "outputs": [],
   "source": []
  },
  {
   "cell_type": "code",
   "execution_count": null,
   "id": "39e37a72-c87d-4bdd-87e9-96c51774e777",
   "metadata": {},
   "outputs": [],
   "source": []
  },
  {
   "cell_type": "code",
   "execution_count": null,
   "id": "66199e9d-b2bd-43bf-b852-fc5a132ef8e0",
   "metadata": {},
   "outputs": [],
   "source": []
  }
 ],
 "metadata": {
  "kernelspec": {
   "display_name": "Python 3 (ipykernel)",
   "language": "python",
   "name": "python3"
  },
  "language_info": {
   "codemirror_mode": {
    "name": "ipython",
    "version": 3
   },
   "file_extension": ".py",
   "mimetype": "text/x-python",
   "name": "python",
   "nbconvert_exporter": "python",
   "pygments_lexer": "ipython3",
   "version": "3.9.12"
  }
 },
 "nbformat": 4,
 "nbformat_minor": 5
}
